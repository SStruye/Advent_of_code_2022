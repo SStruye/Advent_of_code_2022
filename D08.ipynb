{
 "cells": [
  {
   "cell_type": "markdown",
   "id": "34fe79dc",
   "metadata": {},
   "source": [
    "### DAY 8 PART 1"
   ]
  },
  {
   "cell_type": "code",
   "execution_count": 101,
   "id": "c48931fd",
   "metadata": {},
   "outputs": [
    {
     "name": "stdout",
     "output_type": "stream",
     "text": [
      "1679\n"
     ]
    }
   ],
   "source": [
    "txtFile = open('./docs/D8.txt', 'r')\n",
    "grid = []\n",
    "visible = []\n",
    "sum = 0\n",
    "\n",
    "for i, line in enumerate(txtFile.readlines()):    \n",
    "    if i < 98:\n",
    "        grid.append(list(line[0:-1]))\n",
    "        visible.append(list(['0'] * (len(line[0:-1]))))  \n",
    "    else:\n",
    "        grid.append(list(line))\n",
    "        visible.append(list(['0'] * (len(line))))  \n",
    "\n",
    "        \n",
    "for side in range(len(grid)): \n",
    "    last_top_y = -1\n",
    "    last_bot_y = -1\n",
    "    last_left_x = -1\n",
    "    last_right_x = -1\n",
    "    for I in range(len(grid)):            \n",
    "        if int(grid[I][side]) > last_top_y:\n",
    "            visible[I][side] = 'T'\n",
    "            last_top_y = int(grid[I][side])\n",
    "        \n",
    "        if int(grid[-I-1][side]) > last_bot_y:\n",
    "            visible[-I-1][side] = 'T'\n",
    "            last_bot_y = int(grid[-I-1][side])\n",
    "        \n",
    "        if int(grid[side][I]) > last_left_x:\n",
    "            visible[side][I] = 'T'\n",
    "            last_left_x = int(grid[side][I])\n",
    "        \n",
    "        if int(grid[side][-I-1]) > last_right_x:\n",
    "            visible[side][-I-1] = 'T'\n",
    "            last_right_x = int(grid[side][-I-1])   \n",
    "\n",
    "for i, val in enumerate(visible):\n",
    "    sum += val.count('T')    \n",
    "print(sum)"
   ]
  },
  {
   "cell_type": "markdown",
   "id": "024e1942",
   "metadata": {},
   "source": [
    "### DAY 8 PART 2"
   ]
  },
  {
   "cell_type": "code",
   "execution_count": 173,
   "id": "9b0d4ef7",
   "metadata": {},
   "outputs": [
    {
     "name": "stdout",
     "output_type": "stream",
     "text": [
      "536625\n"
     ]
    }
   ],
   "source": [
    "dist_prod = []\n",
    "\n",
    "for Y in range(len(grid)):\n",
    "    for X in range(len(grid)): \n",
    "        f_t = False\n",
    "        f_b = False\n",
    "        f_l = False\n",
    "        f_r = False\n",
    "        \n",
    "        view_t = 0\n",
    "        view_b = 0\n",
    "        view_l = 0\n",
    "        view_r = 0\n",
    "        \n",
    "        if Y == 0 or X == 0 or Y == (len(grid)-1) or x == (len(grid)-1):\n",
    "            dist_prod.append(0)\n",
    "            \n",
    "        else:\n",
    "            for i in range(len(grid)):\n",
    "                if i == 0:\n",
    "                    continue                    \n",
    "                if Y-i >= 0 and not(f_t):                   \n",
    "                    if int(grid[Y][X]) <= int(grid[Y-i][X]):                       \n",
    "                        view_t += 1\n",
    "                        f_t = True\n",
    "                    else:\n",
    "                        view_t += 1\n",
    "                        \n",
    "                if Y+i < len(grid) and not(f_b):\n",
    "                    if int(grid[Y][X]) <= int(grid[Y+i][X]):\n",
    "                        view_b += 1\n",
    "                        f_b = True\n",
    "                    else:\n",
    "                        view_b += 1                        \n",
    "                if X-i >= 0 and not(f_l):\n",
    "                    if int(grid[Y][X]) <= int(grid[Y][X-i]):\n",
    "                        view_l += 1\n",
    "                        f_l = True\n",
    "                    else:\n",
    "                        view_l += 1                        \n",
    "                if X+i < len(grid) and not(f_r):\n",
    "                    if int(grid[Y][X]) <= int(grid[Y][X+i]):\n",
    "                        view_r += 1\n",
    "                        f_r = True\n",
    "                    else:\n",
    "                        view_r += 1\n",
    "\n",
    "            dist_prod.append(view_t * view_b * view_l * view_r)\n",
    "            \n",
    "print(max(dist_prod))           "
   ]
  },
  {
   "cell_type": "code",
   "execution_count": null,
   "id": "dbb5245d",
   "metadata": {},
   "outputs": [],
   "source": []
  },
  {
   "cell_type": "code",
   "execution_count": null,
   "id": "54094be2",
   "metadata": {},
   "outputs": [],
   "source": []
  }
 ],
 "metadata": {
  "kernelspec": {
   "display_name": "Python 3 (ipykernel)",
   "language": "python",
   "name": "python3"
  },
  "language_info": {
   "codemirror_mode": {
    "name": "ipython",
    "version": 3
   },
   "file_extension": ".py",
   "mimetype": "text/x-python",
   "name": "python",
   "nbconvert_exporter": "python",
   "pygments_lexer": "ipython3",
   "version": "3.9.13"
  }
 },
 "nbformat": 4,
 "nbformat_minor": 5
}
