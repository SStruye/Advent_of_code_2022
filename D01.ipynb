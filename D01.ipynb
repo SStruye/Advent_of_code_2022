{
 "cells": [
  {
   "cell_type": "markdown",
   "id": "7a5075a3",
   "metadata": {},
   "source": [
    "### DAY 1 PART 1"
   ]
  },
  {
   "cell_type": "code",
   "execution_count": 47,
   "id": "c53c0a0f",
   "metadata": {},
   "outputs": [],
   "source": [
    "txtFile = open('./docs/D1.txt', 'r')"
   ]
  },
  {
   "cell_type": "code",
   "execution_count": 48,
   "id": "97879189",
   "metadata": {
    "scrolled": true
   },
   "outputs": [],
   "source": [
    "val_sum = 0\n",
    "val_list = []\n",
    "count = 0\n",
    "\n",
    "while True:\n",
    "    line = txtFile.readline()\n",
    "    if line > '0':\n",
    "        val_sum += int(line) \n",
    "    else:\n",
    "        val_list.append(val_sum)\n",
    "        val_sum = 0\n",
    "        count += 1\n",
    "    if not line:\n",
    "        break"
   ]
  },
  {
   "cell_type": "code",
   "execution_count": 50,
   "id": "def74d12",
   "metadata": {
    "scrolled": true
   },
   "outputs": [
    {
     "name": "stdout",
     "output_type": "stream",
     "text": [
      "69836\n"
     ]
    }
   ],
   "source": [
    "print(max(val_list))"
   ]
  },
  {
   "cell_type": "markdown",
   "id": "7fd32758",
   "metadata": {},
   "source": [
    "### DAY 1 PART 2"
   ]
  },
  {
   "cell_type": "code",
   "execution_count": 51,
   "id": "d0cbb5db",
   "metadata": {},
   "outputs": [],
   "source": [
    "val_list.sort()"
   ]
  },
  {
   "cell_type": "code",
   "execution_count": 57,
   "id": "94ba0b92",
   "metadata": {},
   "outputs": [
    {
     "name": "stdout",
     "output_type": "stream",
     "text": [
      "207968\n"
     ]
    }
   ],
   "source": [
    "print(sum(val_list[-3:]))"
   ]
  },
  {
   "cell_type": "code",
   "execution_count": null,
   "id": "21e32247",
   "metadata": {},
   "outputs": [],
   "source": []
  }
 ],
 "metadata": {
  "kernelspec": {
   "display_name": "Python 3 (ipykernel)",
   "language": "python",
   "name": "python3"
  },
  "language_info": {
   "codemirror_mode": {
    "name": "ipython",
    "version": 3
   },
   "file_extension": ".py",
   "mimetype": "text/x-python",
   "name": "python",
   "nbconvert_exporter": "python",
   "pygments_lexer": "ipython3",
   "version": "3.9.13"
  }
 },
 "nbformat": 4,
 "nbformat_minor": 5
}
