{
 "cells": [
  {
   "cell_type": "markdown",
   "id": "c6b69521",
   "metadata": {},
   "source": [
    "### DAY 4 PART 1"
   ]
  },
  {
   "cell_type": "code",
   "execution_count": 1,
   "id": "807a8e33",
   "metadata": {},
   "outputs": [],
   "source": [
    "import pandas as pd"
   ]
  },
  {
   "cell_type": "code",
   "execution_count": 6,
   "id": "2481e6ff",
   "metadata": {},
   "outputs": [],
   "source": [
    "file = pd.read_csv(\"./docs/D4.csv\")"
   ]
  },
  {
   "cell_type": "code",
   "execution_count": 43,
   "id": "07740e89",
   "metadata": {
    "scrolled": false
   },
   "outputs": [
    {
     "name": "stdout",
     "output_type": "stream",
     "text": [
      "573\n"
     ]
    }
   ],
   "source": [
    "count = 0\n",
    "\n",
    "for i, row in file.iterrows():\n",
    "    \n",
    "    elf1_bottom = ''\n",
    "    elf1_top = ''\n",
    "    \n",
    "    elf2_bottom = ''\n",
    "    elf2_top = ''\n",
    "    \n",
    "    dash1 = False\n",
    "    dash2 = False\n",
    "        \n",
    "    for n in range(len(row[\"elf1\"])):\n",
    "        if row[\"elf1\"][n] == '-':\n",
    "            dash1 = True\n",
    "        elif dash1:\n",
    "            elf1_top +=(row[\"elf1\"][n])\n",
    "        else:\n",
    "            elf1_bottom +=(row[\"elf1\"][n])\n",
    "            \n",
    "    for n in range(len(row[\"elf2\"])):\n",
    "        if row[\"elf2\"][n] == '-':\n",
    "            dash2 = True\n",
    "        elif dash2:\n",
    "            elf2_top +=(row[\"elf2\"][n])\n",
    "        else:\n",
    "            elf2_bottom +=(row[\"elf2\"][n])\n",
    "            \n",
    "    \n",
    "    if int(elf1_bottom) >= int(elf2_bottom) and int(elf1_top) <= int(elf2_top):\n",
    "        count += 1\n",
    "        \n",
    "    elif int(elf2_bottom) >= int(elf1_bottom) and int(elf2_top) <= int(elf1_top):\n",
    "        count += 1\n",
    "\n",
    "print(count)\n"
   ]
  },
  {
   "cell_type": "markdown",
   "id": "460872b5",
   "metadata": {},
   "source": [
    "### DAY 4 PART 2"
   ]
  },
  {
   "cell_type": "code",
   "execution_count": 46,
   "id": "c9798d33",
   "metadata": {},
   "outputs": [
    {
     "name": "stdout",
     "output_type": "stream",
     "text": [
      "867\n"
     ]
    }
   ],
   "source": [
    "count = 0\n",
    "\n",
    "for i, row in file.iterrows():\n",
    "    \n",
    "    elf1_bottom = ''\n",
    "    elf1_top = ''\n",
    "    \n",
    "    elf2_bottom = ''\n",
    "    elf2_top = ''\n",
    "    \n",
    "    dash1 = False\n",
    "    dash2 = False\n",
    "        \n",
    "    for n in range(len(row[\"elf1\"])):\n",
    "        if row[\"elf1\"][n] == '-':\n",
    "            dash1 = True\n",
    "        elif dash1:\n",
    "            elf1_top +=(row[\"elf1\"][n])\n",
    "        else:\n",
    "            elf1_bottom +=(row[\"elf1\"][n])\n",
    "            \n",
    "    for n in range(len(row[\"elf2\"])):\n",
    "        if row[\"elf2\"][n] == '-':\n",
    "            dash2 = True\n",
    "        elif dash2:\n",
    "            elf2_top +=(row[\"elf2\"][n])\n",
    "        else:\n",
    "            elf2_bottom +=(row[\"elf2\"][n])\n",
    "            \n",
    "    \n",
    "    if int(elf1_bottom) >= int(elf2_bottom) and int(elf1_bottom) <= int(elf2_top):\n",
    "        count += 1\n",
    "    elif int(elf1_bottom) >= int(elf2_bottom) and int(elf1_bottom) <= int(elf2_top):\n",
    "        count += 1\n",
    "        \n",
    "    elif int(elf2_bottom) >= int(elf1_bottom) and int(elf2_bottom) <= int(elf1_top):\n",
    "        count += 1\n",
    "    elif int(elf2_bottom) >= int(elf1_bottom) and int(elf2_bottom) <= int(elf1_top):\n",
    "        count += 1\n",
    "\n",
    "print(count)"
   ]
  },
  {
   "cell_type": "code",
   "execution_count": null,
   "id": "fdbe0fb7",
   "metadata": {},
   "outputs": [],
   "source": []
  }
 ],
 "metadata": {
  "kernelspec": {
   "display_name": "Python 3 (ipykernel)",
   "language": "python",
   "name": "python3"
  },
  "language_info": {
   "codemirror_mode": {
    "name": "ipython",
    "version": 3
   },
   "file_extension": ".py",
   "mimetype": "text/x-python",
   "name": "python",
   "nbconvert_exporter": "python",
   "pygments_lexer": "ipython3",
   "version": "3.9.13"
  }
 },
 "nbformat": 4,
 "nbformat_minor": 5
}
