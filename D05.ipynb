{
 "cells": [
  {
   "cell_type": "markdown",
   "id": "ed4885e5",
   "metadata": {},
   "source": [
    "### DAY 5 PART 1"
   ]
  },
  {
   "cell_type": "code",
   "execution_count": 118,
   "id": "d5357d63",
   "metadata": {},
   "outputs": [],
   "source": [
    "import pandas as pd\n",
    "\n",
    "moves = pd.read_csv('./docs/D5_2.csv')"
   ]
  },
  {
   "cell_type": "code",
   "execution_count": 119,
   "id": "c2bc3511",
   "metadata": {},
   "outputs": [
    {
     "name": "stdout",
     "output_type": "stream",
     "text": [
      "TBVFVDZPN\n"
     ]
    }
   ],
   "source": [
    "stacks = [\n",
    "    ['V','C','D','R','Z','G','B','W'],\n",
    "    ['G','W','F','C','B','S','T','V'],\n",
    "    ['C','B','S','N','W'],\n",
    "    ['Q','G','M','N','J','V','C','P'],\n",
    "    ['T','S','L','F','D','H','B'],\n",
    "    ['J','V','T','W','M','N'],\n",
    "    ['P','F','L','C','S','T','G'],\n",
    "    ['B','D','Z'],\n",
    "    ['M','N','Z','W'],\n",
    "]\n",
    "\n",
    "answer = ''\n",
    "\n",
    "for index, row in moves.iterrows():\n",
    "    \n",
    "    from_stack = int(row['from']) - 1\n",
    "    to_stack = int(row['to']) - 1\n",
    "    amount = int(row['moves'])\n",
    "    \n",
    "    for i in range(amount):\n",
    "        stacks[to_stack].append(stacks[from_stack][-1])\n",
    "        stacks[from_stack].pop()\n",
    "\n",
    "for i in range(len(stacks)):\n",
    "    answer += stacks[i][-1]\n",
    "\n",
    "print(answer)"
   ]
  },
  {
   "cell_type": "markdown",
   "id": "3d04dba5",
   "metadata": {},
   "source": [
    "### DAY 5 PART 2"
   ]
  },
  {
   "cell_type": "code",
   "execution_count": 120,
   "id": "5fecf675",
   "metadata": {},
   "outputs": [
    {
     "name": "stdout",
     "output_type": "stream",
     "text": [
      "VLCWHTDSZ\n"
     ]
    }
   ],
   "source": [
    "stacks = [\n",
    "    ['V','C','D','R','Z','G','B','W'],\n",
    "    ['G','W','F','C','B','S','T','V'],\n",
    "    ['C','B','S','N','W'],\n",
    "    ['Q','G','M','N','J','V','C','P'],\n",
    "    ['T','S','L','F','D','H','B'],\n",
    "    ['J','V','T','W','M','N'],\n",
    "    ['P','F','L','C','S','T','G'],\n",
    "    ['B','D','Z'],\n",
    "    ['M','N','Z','W'],\n",
    "]\n",
    "\n",
    "answer = ''\n",
    "\n",
    "for index, row in moves.iterrows():\n",
    "    \n",
    "    from_stack = int(row['from']) - 1\n",
    "    to_stack = int(row['to']) - 1\n",
    "    amount = int(row['moves'])\n",
    "    \n",
    "    for i in range(amount):\n",
    "        stacks[to_stack].append(stacks[from_stack][-amount+i])\n",
    "        stacks[from_stack].pop(-amount+i)\n",
    "        \n",
    "for i in range(len(stacks)):\n",
    "    answer += stacks[i][-1]\n",
    "\n",
    "print(answer)"
   ]
  },
  {
   "cell_type": "code",
   "execution_count": null,
   "id": "f7528a69",
   "metadata": {},
   "outputs": [],
   "source": []
  }
 ],
 "metadata": {
  "kernelspec": {
   "display_name": "Python 3 (ipykernel)",
   "language": "python",
   "name": "python3"
  },
  "language_info": {
   "codemirror_mode": {
    "name": "ipython",
    "version": 3
   },
   "file_extension": ".py",
   "mimetype": "text/x-python",
   "name": "python",
   "nbconvert_exporter": "python",
   "pygments_lexer": "ipython3",
   "version": "3.9.13"
  }
 },
 "nbformat": 4,
 "nbformat_minor": 5
}
