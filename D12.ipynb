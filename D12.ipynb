{
 "cells": [
  {
   "cell_type": "markdown",
   "id": "d1e5c16d",
   "metadata": {},
   "source": [
    "### DAY 12 PART 1"
   ]
  },
  {
   "cell_type": "markdown",
   "id": "95e556ac",
   "metadata": {},
   "source": [
    "- https://en.wikipedia.org/wiki/Dijkstra%27s_algorithm#Algorithm"
   ]
  },
  {
   "cell_type": "code",
   "execution_count": 18,
   "id": "e739db73",
   "metadata": {
    "scrolled": true
   },
   "outputs": [
    {
     "name": "stdout",
     "output_type": "stream",
     "text": [
      "456\n",
      "Execution time: 4.300279855728149 seconds\n"
     ]
    }
   ],
   "source": [
    "import numpy as np\n",
    "import time\n",
    "\n",
    "# get the start time\n",
    "st = time.time()\n",
    "\n",
    "# create height map\n",
    "lines = open('./docs/D12.txt','r').readlines()\n",
    "height_map = np.array([[ord(letter) - 97 for letter in line.strip()] for line in lines])\n",
    "\n",
    "# extract S and E coordinates from height map\n",
    "s_coord = np.where(height_map == ord('S') - 97)[0][0], np.where(height_map == ord('S') - 97)[1][0]\n",
    "e_coord = np.where(height_map == ord('E') - 97)[0][0], np.where(height_map == ord('E') - 97)[1][0]\n",
    "\n",
    "# create dict with al coordinates and there distance from S (starts with all 'infinite')\n",
    "distances = {}\n",
    "for coords in zip(np.where(height_map != ord('S') - 97)[0], np.where(height_map != ord('S') - 97)[1]):\n",
    "    distances[coords] = np.inf\n",
    "\n",
    "# set start node distance to 0\n",
    "distances[s_coord] = 0\n",
    "\n",
    "# edit height mapping of S and E\n",
    "height_map[s_coord[0], s_coord[1]] = 0\n",
    "height_map[e_coord[0], e_coord[1]] = 25\n",
    "\n",
    "# create list of unvisited nodes from distances dict\n",
    "unvisited = list(distances.keys())\n",
    "\n",
    "curr_coord = s_coord\n",
    "visited = []\n",
    "\n",
    "def check_height_diff(next_node, curr_node, height_array):\n",
    "    if height_array[next_node] <= height_array[curr_node]+1:\n",
    "        return True\n",
    "    else:\n",
    "        return False\n",
    "       \n",
    "def update_distance(next_node, curr_node, distance_dict):\n",
    "    if (distances[next_node] == np.inf or distances[next_node] > distances[curr_node]):\n",
    "        return distance_dict[curr_node] + 1\n",
    "    else:\n",
    "        return distance_dict[next_node]\n",
    "\n",
    "while curr_coord != e_coord:    \n",
    "    # neighbouring nodes coordinates\n",
    "    node_up    = curr_coord[0]-1, curr_coord[1]\n",
    "    node_down  = curr_coord[0]+1, curr_coord[1]\n",
    "    node_left  = curr_coord[0], curr_coord[1]-1\n",
    "    node_right = curr_coord[0], curr_coord[1]+1 \n",
    "    \n",
    "    neighbours = [node_up, node_down, node_left, node_right]\n",
    "    \n",
    "    for neighbour in neighbours:\n",
    "        # check neighbours\n",
    "        if ((neighbour == node_up and curr_coord[0] > 0) or \n",
    "            (neighbour == node_left and curr_coord[1] > 0) or\n",
    "            (neighbour == node_down and curr_coord[0] < height_map.shape[0] -1) or\n",
    "            (neighbour == node_right and curr_coord[1] < height_map.shape[1] -1)):\n",
    "            # check height difference and if node is already in visited\n",
    "            if (check_height_diff(neighbour, curr_coord, height_map) and \n",
    "                neighbour not in visited):\n",
    "                # update distance neighbour distance\n",
    "                distances[neighbour] = update_distance(neighbour, curr_coord, distances)\n",
    "        \n",
    "    # move curr node from unvisited to visited\n",
    "    unvisited.remove(curr_coord)\n",
    "    visited.append(curr_coord)\n",
    "    # update current coord to unvisited coordinate with smallest distance\n",
    "    unvisited_dict = dict((k, distances[k]) for k in unvisited)\n",
    "    curr_coord = min(unvisited_dict, key=unvisited_dict.get)\n",
    "\n",
    "#print distance to E\n",
    "print(distances[e_coord])\n",
    "\n",
    "# get the end time\n",
    "print('Execution time:', time.time() - st, 'seconds')"
   ]
  },
  {
   "cell_type": "markdown",
   "id": "c54314ae",
   "metadata": {},
   "source": [
    "### DAY 12 PART 2"
   ]
  },
  {
   "cell_type": "code",
   "execution_count": 17,
   "id": "b527ef3a",
   "metadata": {
    "scrolled": true
   },
   "outputs": [
    {
     "name": "stdout",
     "output_type": "stream",
     "text": [
      "454\n",
      "Execution time: 3.3997724056243896 seconds\n"
     ]
    }
   ],
   "source": [
    "import numpy as np\n",
    "import time\n",
    "\n",
    "# get the start time\n",
    "st = time.time()\n",
    "\n",
    "# create height map\n",
    "lines = open('./docs/D12.txt','r').readlines()\n",
    "height_map = np.array([[ord(letter) - 97 for letter in line.strip()] for line in lines])\n",
    "\n",
    "# extract S and E coordinates from height map\n",
    "s_coord = np.where(height_map == ord('S') - 97)[0][0], np.where(height_map == ord('S') - 97)[1][0]\n",
    "e_coord = np.where(height_map == ord('E') - 97)[0][0], np.where(height_map == ord('E') - 97)[1][0]\n",
    "\n",
    "# create dict with al coordinates and there distance from S (currently all 'infinite')\n",
    "distances = {}\n",
    "for coords in zip(np.where(height_map != ord('S') - 97)[0], np.where(height_map != ord('S') - 97)[1]):\n",
    "    distances[coords] = np.inf\n",
    "\n",
    "# set start node distance to 0\n",
    "distances[e_coord] = 0\n",
    "\n",
    "# edit height mapping of S and E\n",
    "height_map[s_coord[0], s_coord[1]] = 0\n",
    "height_map[e_coord[0], e_coord[1]] = 25\n",
    "\n",
    "# create list of unvisited nodes from distances dict\n",
    "unvisited = list(distances.keys())\n",
    "\n",
    "curr_coord = e_coord\n",
    "visited = []\n",
    "\n",
    "def check_height_diff(next_node, curr_node, height_array):\n",
    "    if height_array[next_node] >= height_array[curr_node]-1:\n",
    "        return True\n",
    "    else:\n",
    "        return False\n",
    "       \n",
    "def update_distance(next_node, curr_node, distance_dict):\n",
    "    if (distances[next_node] == np.inf or distances[next_node] > distances[curr_node]):\n",
    "        return distance_dict[curr_node] + 1\n",
    "    else:\n",
    "        return distance_dict[next_node]\n",
    "\n",
    "while True:    \n",
    "    # neighbouring nodes coordinates\n",
    "    node_up    = curr_coord[0]-1, curr_coord[1]\n",
    "    node_down  = curr_coord[0]+1, curr_coord[1]\n",
    "    node_left  = curr_coord[0], curr_coord[1]-1\n",
    "    node_right = curr_coord[0], curr_coord[1]+1 \n",
    "    \n",
    "    neighbours = [node_up, node_down, node_left, node_right]\n",
    "    \n",
    "    for neighbour in neighbours:\n",
    "        # check neighbours\n",
    "        if ((neighbour == node_up and curr_coord[0] > 0) or \n",
    "            (neighbour == node_left and curr_coord[1] > 0) or\n",
    "            (neighbour == node_down and curr_coord[0] < height_map.shape[0] -1) or\n",
    "            (neighbour == node_right and curr_coord[1] < height_map.shape[1] -1)):\n",
    "            # check height difference and if node is already in visited\n",
    "            if (check_height_diff(neighbour, curr_coord, height_map) and \n",
    "                neighbour not in visited):\n",
    "                # update distance neighbour distance\n",
    "                distances[neighbour] = update_distance(neighbour, curr_coord, distances)\n",
    "        \n",
    "    # move curr node from unvisited to visited\n",
    "    unvisited.remove(curr_coord)\n",
    "    visited.append(curr_coord)\n",
    "    # update current coord to unvisited coordinate with smallest distance\n",
    "    unvisited_dict = dict((k, distances[k]) for k in unvisited)\n",
    "    curr_coord = min(unvisited_dict, key=unvisited_dict.get)\n",
    "    \n",
    "    if(height_map[curr_coord] == 0):\n",
    "        print(distances[curr_coord])\n",
    "        break\n",
    "\n",
    "# get the end time\n",
    "print('Execution time:', time.time() - st, 'seconds')"
   ]
  },
  {
   "cell_type": "code",
   "execution_count": null,
   "id": "c068b4ae",
   "metadata": {},
   "outputs": [],
   "source": []
  }
 ],
 "metadata": {
  "kernelspec": {
   "display_name": "Python 3 (ipykernel)",
   "language": "python",
   "name": "python3"
  },
  "language_info": {
   "codemirror_mode": {
    "name": "ipython",
    "version": 3
   },
   "file_extension": ".py",
   "mimetype": "text/x-python",
   "name": "python",
   "nbconvert_exporter": "python",
   "pygments_lexer": "ipython3",
   "version": "3.9.13"
  }
 },
 "nbformat": 4,
 "nbformat_minor": 5
}
