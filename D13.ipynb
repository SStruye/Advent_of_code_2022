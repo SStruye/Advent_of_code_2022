{
 "cells": [
  {
   "cell_type": "code",
   "execution_count": 8,
   "id": "2ccd5762",
   "metadata": {},
   "outputs": [
    {
     "data": {
      "text/plain": [
       "(5252, 20592)"
      ]
     },
     "execution_count": 8,
     "metadata": {},
     "output_type": "execute_result"
    }
   ],
   "source": [
    "from functools import cmp_to_key\n",
    "\n",
    "text = open('./docs/D13.txt', 'r').read()\n",
    "\n",
    "pairs = [list(map(eval, x.splitlines())) for x in text.split('\\n\\n')]\n",
    "\n",
    "def compare(left, right):\n",
    "    if not isinstance(left, list):\n",
    "        left = [left]\n",
    "    if not isinstance(right, list):\n",
    "        right = [right]\n",
    "    for l, r in zip(left, right):\n",
    "        if isinstance(l, list) or isinstance(r, list):\n",
    "            res = compare(l, r)\n",
    "        else:\n",
    "            res = r - l\n",
    "        if res != 0:\n",
    "            return res\n",
    "    return len(right) - len(left)\n",
    "\n",
    "part1 = sum(i for i, (left, right) in enumerate(pairs, 1) \n",
    "            if compare(left, right) > 0)\n",
    "        \n",
    "part2 = 1\n",
    "sorted_list = sorted([y for x in pairs for y in x] + [[[2]], [[6]]], \n",
    "                     key=cmp_to_key(compare), reverse=True)\n",
    "for i, item in enumerate(sorted_list, 1):\n",
    "    if item in ([[2]], [[6]]):\n",
    "        part2 *= i\n",
    "\n",
    "part1, part2"
   ]
  }
 ],
 "metadata": {
  "kernelspec": {
   "display_name": "Python 3 (ipykernel)",
   "language": "python",
   "name": "python3"
  },
  "language_info": {
   "codemirror_mode": {
    "name": "ipython",
    "version": 3
   },
   "file_extension": ".py",
   "mimetype": "text/x-python",
   "name": "python",
   "nbconvert_exporter": "python",
   "pygments_lexer": "ipython3",
   "version": "3.9.13"
  }
 },
 "nbformat": 4,
 "nbformat_minor": 5
}
