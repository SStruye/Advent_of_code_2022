{
 "cells": [
  {
   "cell_type": "markdown",
   "id": "b13a1d37",
   "metadata": {},
   "source": [
    "### DAY 9 PART 1"
   ]
  },
  {
   "cell_type": "code",
   "execution_count": 102,
   "id": "d88d97a7",
   "metadata": {},
   "outputs": [
    {
     "name": "stdout",
     "output_type": "stream",
     "text": [
      "6044\n"
     ]
    }
   ],
   "source": [
    "txtFile = open('./docs/D9.txt', 'r')\n",
    "moves = txtFile.readlines()\n",
    "\n",
    "coords = []\n",
    "covers = True\n",
    "position_h = [0,0]\n",
    "position_t = [0,0]\n",
    "\n",
    "for i, move in enumerate(moves):\n",
    "    move = move.split()\n",
    " \n",
    "    if move[0] == 'U':\n",
    "        for i in range(int(move[1])):\n",
    "            position_h[0] += 1\n",
    "            if position_h[0] == position_t[0]+2:\n",
    "                position_t[0] += 1\n",
    "                position_t[1] = position_h[1]\n",
    "            if not(str(position_t) in coords):\n",
    "                coords.append(str(position_t))\n",
    "                \n",
    "    elif move[0] == 'D':\n",
    "        for i in range(int(move[1])):\n",
    "            position_h[0] -= 1\n",
    "            if position_h[0] == position_t[0]-2:\n",
    "                position_t[0] -= 1\n",
    "                position_t[1] = position_h[1]\n",
    "            if not(str(position_t) in coords):\n",
    "                coords.append(str(position_t))\n",
    "                \n",
    "    elif move[0] == 'R':\n",
    "        for i in range(int(move[1])):\n",
    "            position_h[1] += 1\n",
    "            if position_h[1] == position_t[1]+2:\n",
    "                position_t[1] += 1\n",
    "                position_t[0] = position_h[0]\n",
    "            if not(str(position_t) in coords):\n",
    "                coords.append(str(position_t))\n",
    "                \n",
    "    elif move[0] == 'L':\n",
    "        for i in range(int(move[1])):\n",
    "            position_h[1] -= 1\n",
    "            if position_h[1] == position_t[1]-2:\n",
    "                position_t[1] -= 1\n",
    "                position_t[0] = position_h[0]\n",
    "            if not(str(position_t) in coords):\n",
    "                coords.append(str(position_t))\n",
    "\n",
    "print(len(coords))"
   ]
  },
  {
   "cell_type": "markdown",
   "id": "9e77c30b",
   "metadata": {},
   "source": [
    "### DAY 9 PART 2"
   ]
  },
  {
   "cell_type": "code",
   "execution_count": 105,
   "id": "91b3e9da",
   "metadata": {},
   "outputs": [
    {
     "name": "stdout",
     "output_type": "stream",
     "text": [
      "2384\n"
     ]
    }
   ],
   "source": [
    "txtFile = open('./docs/D9.txt', 'r')\n",
    "moves = txtFile.readlines()\n",
    "\n",
    "n_tails = 9\n",
    "coords = []\n",
    "pos_knots = [[0,0] for i in range(n_tails+1)]\n",
    "\n",
    "for i, move in enumerate(moves):\n",
    "    move = move.split()\n",
    "\n",
    "    direction = move[0]\n",
    "    steps = int(move[1])\n",
    "        \n",
    "    for step in range(steps):\n",
    "        \n",
    "        if direction == 'U':\n",
    "            pos_knots[0][0] += 1\n",
    "        elif direction == 'D':\n",
    "            pos_knots[0][0] -= 1\n",
    "        elif direction == 'R':\n",
    "            pos_knots[0][1] += 1\n",
    "        else: # 'L'\n",
    "            pos_knots[0][1] -= 1\n",
    "            \n",
    "        for tail in range(1,n_tails+1):\n",
    "            offset = [(pos_knots[tail-1][0] - pos_knots[tail][0]), (pos_knots[tail-1][1] - pos_knots[tail][1])]\n",
    "            \n",
    "            if abs(offset[0]) == 2:\n",
    "                if abs(offset[1]) == 2:\n",
    "                    pos_knots[tail][0] += int(offset[0]/2)\n",
    "                    pos_knots[tail][1] += int(offset[1]/2)\n",
    "                else:\n",
    "                    pos_knots[tail][0] += int(offset[0]/2)\n",
    "                    pos_knots[tail][1] = pos_knots[tail-1][1]\n",
    "                    \n",
    "            elif abs(offset[1]) == 2:\n",
    "                pos_knots[tail][1] += int(offset[1]/2)\n",
    "                pos_knots[tail][0] = pos_knots[tail-1][0]\n",
    "                    \n",
    "        if not(str(pos_knots[n_tails]) in coords):\n",
    "                coords.append(str(pos_knots[n_tails]))\n",
    "                    \n",
    "print(len(coords))"
   ]
  },
  {
   "cell_type": "code",
   "execution_count": null,
   "id": "6aba2132",
   "metadata": {},
   "outputs": [],
   "source": []
  }
 ],
 "metadata": {
  "kernelspec": {
   "display_name": "Python 3 (ipykernel)",
   "language": "python",
   "name": "python3"
  },
  "language_info": {
   "codemirror_mode": {
    "name": "ipython",
    "version": 3
   },
   "file_extension": ".py",
   "mimetype": "text/x-python",
   "name": "python",
   "nbconvert_exporter": "python",
   "pygments_lexer": "ipython3",
   "version": "3.9.13"
  }
 },
 "nbformat": 4,
 "nbformat_minor": 5
}
