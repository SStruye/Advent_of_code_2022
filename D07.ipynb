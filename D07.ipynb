{
 "cells": [
  {
   "cell_type": "markdown",
   "id": "9223fd48",
   "metadata": {},
   "source": [
    "### D7 PART 1"
   ]
  },
  {
   "cell_type": "code",
   "execution_count": 43,
   "id": "5fa32b62",
   "metadata": {
    "scrolled": true
   },
   "outputs": [
    {
     "name": "stdout",
     "output_type": "stream",
     "text": [
      "large enough: 1667443\n"
     ]
    }
   ],
   "source": [
    "txtFile = open('./docs/D7.txt', 'r')\n",
    "\n",
    "file_paths = []\n",
    "file_sizes = []\n",
    "dir_names = []\n",
    "dir_paths = []\n",
    "dir_sizes = []\n",
    "\n",
    "curr_path = []\n",
    "\n",
    "lines = txtFile.readlines()\n",
    "\n",
    "count = 0\n",
    "\n",
    "for i in range(len(lines)):  \n",
    "    \n",
    "    components = lines[i].split()\n",
    "    \n",
    "    if components[0] == '$':\n",
    "        if not(components[1] == 'ls'):\n",
    "            if components[2] == '..':\n",
    "                curr_path.pop()\n",
    "            else:\n",
    "                curr_path.append(components[2])\n",
    "                dir_names.append(components[2])\n",
    "                 \n",
    "    elif components[0] == 'dir':\n",
    "        dir_sizes.append(0)\n",
    "        \n",
    "    else:\n",
    "        file_size = int(components[0])\n",
    "        file_paths.append(list(curr_path))\n",
    "        file_sizes.append(file_size)\n",
    "        \n",
    "    if not(curr_path in dir_paths) and curr_path != []:\n",
    "        dir_paths.append(list(curr_path))\n",
    " \n",
    "\n",
    "for i, name in enumerate(dir_paths):\n",
    "    #print('dir' + str(name))\n",
    "    for n, file in enumerate(file_paths):\n",
    "        if name[0] == file_paths[n][0]:\n",
    "            str_name = ''.join(name)\n",
    "            str_path = ''.join(file_paths[n])\n",
    "            if str_name in str_path:\n",
    "                #print(str(n) + str(file) + str(file_sizes[n]))\n",
    "                dir_sizes[i] += file_sizes[n] \n",
    "\n",
    "#for i, val in enumerate(dir_paths):\n",
    "#    print(val)\n",
    "     \n",
    "#for i in range(len(file_paths)):\n",
    "#   print(file_paths[i], file_sizes[i])\n",
    "\n",
    "#for i in range(len(dir_paths)):\n",
    "#    print(dir_paths[i], dir_sizes[i])\n",
    "\n",
    "print('large enough: ' + str(sum(filter(lambda x: x<100000, dir_sizes))))   "
   ]
  },
  {
   "cell_type": "markdown",
   "id": "882b7c10",
   "metadata": {},
   "source": [
    "### D7 PART 2"
   ]
  },
  {
   "cell_type": "code",
   "execution_count": 45,
   "id": "34fa254a",
   "metadata": {},
   "outputs": [
    {
     "name": "stdout",
     "output_type": "stream",
     "text": [
      "smallest dirsize: 8998590\n"
     ]
    }
   ],
   "source": [
    "root = 0\n",
    "possibleDirs = []\n",
    "\n",
    "for i, size in enumerate(dir_sizes):\n",
    "    if len(dir_paths[i]) == 1:\n",
    "        root += size\n",
    "\n",
    "minSize = 30000000 - (70000000 - root)\n",
    "\n",
    "for i, dirsize in enumerate(dir_sizes):\n",
    "    if dirsize >= minSize:\n",
    "        possibleDirs.append(dirsize)\n",
    "        \n",
    "print('smallest dirsize: ' + str(min(possibleDirs)))"
   ]
  },
  {
   "cell_type": "code",
   "execution_count": null,
   "id": "df020a7a",
   "metadata": {},
   "outputs": [],
   "source": [
    "1667443"
   ]
  }
 ],
 "metadata": {
  "kernelspec": {
   "display_name": "Python 3 (ipykernel)",
   "language": "python",
   "name": "python3"
  },
  "language_info": {
   "codemirror_mode": {
    "name": "ipython",
    "version": 3
   },
   "file_extension": ".py",
   "mimetype": "text/x-python",
   "name": "python",
   "nbconvert_exporter": "python",
   "pygments_lexer": "ipython3",
   "version": "3.9.13"
  }
 },
 "nbformat": 4,
 "nbformat_minor": 5
}
