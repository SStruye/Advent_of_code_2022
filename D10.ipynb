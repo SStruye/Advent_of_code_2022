{
 "cells": [
  {
   "cell_type": "code",
   "execution_count": null,
   "id": "e84884af",
   "metadata": {},
   "outputs": [],
   "source": []
  },
  {
   "cell_type": "code",
   "execution_count": 21,
   "id": "e9b098b8",
   "metadata": {
    "scrolled": false
   },
   "outputs": [
    {
     "name": "stdout",
     "output_type": "stream",
     "text": [
      "19 20\n",
      "59 60\n",
      "99 100\n",
      "139 140\n",
      "179 180\n",
      "219 220\n",
      "[420, 1020, 1700, 2940, 3060, 3740]\n",
      "12880\n"
     ]
    }
   ],
   "source": [
    "txtFile = open('./docs/D10.txt','r')\n",
    "\n",
    "cycles = 20\n",
    "X = 1\n",
    "product = []\n",
    "reading = False\n",
    "line = ''\n",
    "n_cycle = [20, 60, 100, 100, 140, 180, 220]\n",
    "\n",
    "for cycle in range(n_cycle[-1]):\n",
    "    if not reading:\n",
    "        line = txtFile.readline()\n",
    "        component = line.split()\n",
    "\n",
    "    if component[0] == 'addx':\n",
    "        if reading:\n",
    "            X += int(component[1])\n",
    "            reading = False\n",
    "        else:\n",
    "            reading = True\n",
    "            \n",
    "    if (cycle+2) in n_cycle:\n",
    "        product.append(X*(cycle+2))\n",
    "\n",
    "print(product)\n",
    "print(sum(product))\n",
    "        "
   ]
  },
  {
   "cell_type": "code",
   "execution_count": 88,
   "id": "ffcae9aa",
   "metadata": {},
   "outputs": [
    {
     "name": "stdout",
     "output_type": "stream",
     "text": [
      "['###..##....##..##..###....##.###..####..']\n",
      "['....#..#....#.#..#.#..#....#.#..#.#.....']\n",
      "['##..#.......#.#..#.#..#....#.#..#.###...']\n",
      "['....#.......#.####.###.....#.###..#.....']\n",
      "['....#..#.#..#.#..#.#....#..#.#.#..#.....']\n",
      "['.....##...##..#..#.#.....##..#..#.####..']\n"
     ]
    }
   ],
   "source": [
    "txtFile = open('./docs/D10.txt','r')\n",
    "\n",
    "cycle = 0\n",
    "\n",
    "X = 1\n",
    "line = ''\n",
    "curr_row = ''\n",
    "row_index = 0\n",
    "image = []\n",
    "\n",
    "while(True): \n",
    "    line = txtFile.readline()\n",
    "    component = line.split() \n",
    "    \n",
    "    if not line:\n",
    "        break\n",
    "    \n",
    "    if component[0] == 'noop':\n",
    "        if X >= row_index and X <= row_index+2:\n",
    "            curr_row += '#'\n",
    "        else:\n",
    "            curr_row += '.'\n",
    "        row_index += 1\n",
    "        if row_index == 40:\n",
    "            image.append([curr_row])\n",
    "            curr_row = ''\n",
    "            row_index = 0\n",
    "            \n",
    "    elif component[0] == 'addx':\n",
    "        if X >= row_index and X <= row_index+2:\n",
    "            curr_row += '#'\n",
    "        else:\n",
    "            curr_row += '.'\n",
    "        row_index += 1\n",
    "        if row_index == 40:\n",
    "            image.append([curr_row])\n",
    "            curr_row = ''\n",
    "            row_index = 0\n",
    "        X += int(component[1])\n",
    "        if X >= row_index and X <= row_index+2:\n",
    "            curr_row += '#'\n",
    "        else:\n",
    "            curr_row += '.'\n",
    "        row_index += 1\n",
    "        if row_index == 40:\n",
    "            image.append([curr_row])\n",
    "            curr_row = ''\n",
    "            row_index = 0\n",
    "\n",
    "for i, row in enumerate(image):            \n",
    "    print(row)"
   ]
  },
  {
   "cell_type": "code",
   "execution_count": null,
   "id": "eefb02a4",
   "metadata": {},
   "outputs": [],
   "source": []
  }
 ],
 "metadata": {
  "kernelspec": {
   "display_name": "Python 3 (ipykernel)",
   "language": "python",
   "name": "python3"
  },
  "language_info": {
   "codemirror_mode": {
    "name": "ipython",
    "version": 3
   },
   "file_extension": ".py",
   "mimetype": "text/x-python",
   "name": "python",
   "nbconvert_exporter": "python",
   "pygments_lexer": "ipython3",
   "version": "3.9.13"
  }
 },
 "nbformat": 4,
 "nbformat_minor": 5
}
