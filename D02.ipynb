{
 "cells": [
  {
   "cell_type": "markdown",
   "id": "97d3609b",
   "metadata": {},
   "source": [
    "### DAY 2 PART 1 "
   ]
  },
  {
   "cell_type": "code",
   "execution_count": 37,
   "id": "e621aa31",
   "metadata": {
    "scrolled": true
   },
   "outputs": [],
   "source": [
    "txtFile = open('./docs/D2.txt', 'r')"
   ]
  },
  {
   "cell_type": "code",
   "execution_count": 38,
   "id": "5a16cd69",
   "metadata": {},
   "outputs": [
    {
     "name": "stdout",
     "output_type": "stream",
     "text": [
      "score: 10941\n"
     ]
    }
   ],
   "source": [
    "score = 0\n",
    "you = ''\n",
    "opp = ''\n",
    "\n",
    "while True:\n",
    "    line = txtFile.readline()\n",
    "    \n",
    "    if not line:\n",
    "        break\n",
    "        \n",
    "    opp = line[0]\n",
    "    you = line[2]\n",
    "\n",
    "    if you == 'X': # stone\n",
    "        score += 1\n",
    "        if opp == 'A': # stone\n",
    "            score += 3\n",
    "        elif opp != 'B': # paper\n",
    "            score += 6\n",
    "            \n",
    "    if you == 'Y': # paper\n",
    "        score += 2\n",
    "        if opp == 'B': # paper\n",
    "            score += 3\n",
    "        elif opp != 'C': # sciss\n",
    "            score += 6\n",
    "            \n",
    "    if you == 'Z': # sciss\n",
    "        score += 3\n",
    "        if opp == 'C': # sciss\n",
    "            score += 3\n",
    "        elif opp != 'A': # stone\n",
    "            score += 6\n",
    "            \n",
    "print('score: ' + str(score))"
   ]
  },
  {
   "cell_type": "markdown",
   "id": "b979e6a7",
   "metadata": {},
   "source": [
    "### DAY 2 PART 2"
   ]
  },
  {
   "cell_type": "code",
   "execution_count": 44,
   "id": "c5e6371e",
   "metadata": {},
   "outputs": [],
   "source": [
    "txtFile = open('./docs/D2.txt', 'r')"
   ]
  },
  {
   "cell_type": "code",
   "execution_count": 45,
   "id": "f253652b",
   "metadata": {},
   "outputs": [
    {
     "name": "stdout",
     "output_type": "stream",
     "text": [
      "score: 13071\n"
     ]
    }
   ],
   "source": [
    "score = 0\n",
    "\n",
    "opp = ''\n",
    "you = ''\n",
    "\n",
    "p_stone = 1\n",
    "p_paper = 2\n",
    "p_sciss = 3\n",
    "\n",
    "# structure: [lose, draw, win]\n",
    "\n",
    "choice = [0, 3, 6]\n",
    "\n",
    "hands = ['X', 'Y', 'Z']\n",
    "\n",
    "o_stone = [p_sciss, p_stone, p_paper]\n",
    "o_paper = [p_stone, p_paper, p_sciss]\n",
    "o_sciss = [p_paper, p_sciss, p_stone]\n",
    "\n",
    "while True:\n",
    "    line = txtFile.readline()\n",
    "    \n",
    "    if not line:\n",
    "        break\n",
    "        \n",
    "    opp = line[0]\n",
    "    you = line[2]\n",
    "    \n",
    "    hand = hands.index(you)\n",
    "      \n",
    "    score += choice[hand]\n",
    "    \n",
    "    if opp == 'A': # stone\n",
    "        score += o_stone[hand]\n",
    "    if opp == 'B': # stone\n",
    "        score += o_paper[hand]\n",
    "    if opp == 'C': # stone\n",
    "        score += o_sciss[hand]\n",
    "                        \n",
    "print('score: ' + str(score))"
   ]
  },
  {
   "cell_type": "code",
   "execution_count": null,
   "id": "c0fcd66e",
   "metadata": {},
   "outputs": [],
   "source": []
  }
 ],
 "metadata": {
  "kernelspec": {
   "display_name": "Python 3 (ipykernel)",
   "language": "python",
   "name": "python3"
  },
  "language_info": {
   "codemirror_mode": {
    "name": "ipython",
    "version": 3
   },
   "file_extension": ".py",
   "mimetype": "text/x-python",
   "name": "python",
   "nbconvert_exporter": "python",
   "pygments_lexer": "ipython3",
   "version": "3.9.13"
  }
 },
 "nbformat": 4,
 "nbformat_minor": 5
}
