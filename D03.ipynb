{
 "cells": [
  {
   "cell_type": "code",
   "execution_count": 40,
   "id": "5c695f2b",
   "metadata": {},
   "outputs": [],
   "source": [
    "txtFile = open('./docs/D3.txt', 'r')"
   ]
  },
  {
   "cell_type": "code",
   "execution_count": 41,
   "id": "ea5fc2a7",
   "metadata": {
    "scrolled": true
   },
   "outputs": [
    {
     "name": "stdout",
     "output_type": "stream",
     "text": [
      "8233\n"
     ]
    }
   ],
   "source": [
    "sum = 0\n",
    "# print(\"test: \" + str(ord('z') - 96))\n",
    "\n",
    "while True:\n",
    "    line = txtFile.readline()\n",
    "        \n",
    "    if not line:\n",
    "        break\n",
    "        \n",
    "    center = int((len(line))/2)\n",
    "    match = False\n",
    "    \n",
    "    for i in range(center+1):\n",
    "        for n in range(center, len(line)):\n",
    "            if line[i] == line[n]:\n",
    "                match = True\n",
    "                if line[n].isupper():\n",
    "                    sum += ord(line[n]) - 38\n",
    "                else:\n",
    "                    sum += ord(line[n]) - 96\n",
    "            if match:\n",
    "                break\n",
    "        if match:\n",
    "            break\n",
    "                \n",
    "print(sum)"
   ]
  },
  {
   "cell_type": "code",
   "execution_count": 38,
   "id": "dd938e74",
   "metadata": {
    "scrolled": true
   },
   "outputs": [],
   "source": [
    "txtFile = open('./docs/D3.txt', 'r')"
   ]
  },
  {
   "cell_type": "code",
   "execution_count": 39,
   "id": "e52abd85",
   "metadata": {},
   "outputs": [
    {
     "name": "stdout",
     "output_type": "stream",
     "text": [
      "2821\n"
     ]
    }
   ],
   "source": [
    "sum = 0\n",
    "\n",
    "while True:\n",
    "    line1 = txtFile.readline()\n",
    "    line2 = txtFile.readline()\n",
    "    line3 = txtFile.readline()\n",
    "        \n",
    "    if not line1:\n",
    "        break\n",
    "    \n",
    "    match = False\n",
    "    \n",
    "    for i1 in range(len(line1)-1):\n",
    "        for i2 in range(len(line2)-1):\n",
    "            for i3 in range(len(line3)-1):\n",
    "                if line1[i1] == line2[i2] and line1[i1] == line3[i3]:\n",
    "                    match = True\n",
    "                    if line1[i1].isupper():\n",
    "                        sum += ord(line1[i1]) - 38\n",
    "                    else:\n",
    "                        sum += ord(line1[i1]) - 96\n",
    "                if match:\n",
    "                    break\n",
    "            if match:\n",
    "                break\n",
    "        if match:\n",
    "            break\n",
    "\n",
    "print(sum)"
   ]
  },
  {
   "cell_type": "code",
   "execution_count": null,
   "id": "67748015",
   "metadata": {},
   "outputs": [],
   "source": []
  },
  {
   "cell_type": "code",
   "execution_count": null,
   "id": "ca8e0b1b",
   "metadata": {},
   "outputs": [],
   "source": []
  }
 ],
 "metadata": {
  "kernelspec": {
   "display_name": "Python 3 (ipykernel)",
   "language": "python",
   "name": "python3"
  },
  "language_info": {
   "codemirror_mode": {
    "name": "ipython",
    "version": 3
   },
   "file_extension": ".py",
   "mimetype": "text/x-python",
   "name": "python",
   "nbconvert_exporter": "python",
   "pygments_lexer": "ipython3",
   "version": "3.9.13"
  }
 },
 "nbformat": 4,
 "nbformat_minor": 5
}
