{
 "cells": [
  {
   "cell_type": "markdown",
   "id": "41fa88a8",
   "metadata": {},
   "source": [
    "### DAY 11 PART 1 & PART 2"
   ]
  },
  {
   "cell_type": "markdown",
   "id": "bfe6e715",
   "metadata": {},
   "source": [
    "edits for part 2 explained in code of part 1\n",
    "\n",
    "to keep number sizes down I made use of the Chinese remainder theorem (found on reddit).\n",
    "It states that when u take the product of all the dividers, and use this product to modulus every item before the 'testing' phase, the outcome stays the same."
   ]
  },
  {
   "cell_type": "code",
   "execution_count": 44,
   "id": "983e5238",
   "metadata": {},
   "outputs": [
    {
     "name": "stdout",
     "output_type": "stream",
     "text": [
      "17408399184\n"
     ]
    }
   ],
   "source": [
    "txtFile = open('./docs/D11.txt','r')\n",
    "\n",
    "class Monkey:\n",
    "    def __init__(self, number):\n",
    "        self.monkey_id = number\n",
    "        self.inspections = 0\n",
    "        self.items = []\n",
    "        self.operand = ''\n",
    "        self.modifier = 0\n",
    "        self.divider = 0\n",
    "        self.if_true = 0\n",
    "        self.if_false = 0\n",
    "        \n",
    "monkeys = []\n",
    "monkey_index = 0\n",
    "\n",
    "# PART 1\n",
    "#n_rounds = 20\n",
    "# PART 2\n",
    "n_rounds = 10000\n",
    "\n",
    "mod = 1\n",
    "inspects = []\n",
    "\n",
    "while True:\n",
    "    line = txtFile.readline()    \n",
    "    if not line:\n",
    "        break    \n",
    "    comp = line.split(':')\n",
    "    \n",
    "    if len(comp) == 0:\n",
    "        continue\n",
    "    elif 'Monkey' in comp[0]: \n",
    "        monkeys.append(Monkey(monkey_index)) \n",
    "        monkey_index+=1\n",
    "    elif 'Starting items' in comp[0]:\n",
    "        for item in comp[1].split(','):\n",
    "            monkeys[monkey_index-1].items.append(int(item)) \n",
    "    elif 'Operation' in comp[0]:\n",
    "        if '+' in comp[1]:\n",
    "            monkeys[monkey_index-1].operand = '+'\n",
    "        elif '*' in comp[1]:\n",
    "            monkeys[monkey_index-1].operand = '*'\n",
    "        monkeys[monkey_index-1].modifier = comp[1].split()[-1]\n",
    "    elif 'Test'in comp[0]:      \n",
    "        mod *= int(comp[1].split()[-1])\n",
    "        monkeys[monkey_index-1].divider = int(comp[1].split()[-1])\n",
    "    elif 'true'in comp[0]:\n",
    "        monkeys[monkey_index-1].if_true = int(comp[1].split()[-1])\n",
    "    elif 'false'in comp[0]:\n",
    "        monkeys[monkey_index-1].if_false = int(comp[1].split()[-1])   \n",
    "    \n",
    "'''\n",
    "for m in monkeys:\n",
    "    print(\"monkey \" + str(m.monkey_id))\n",
    "    print(\"    items    : \" + str(m.items))\n",
    "    print(\"    operand  : \" + str(m.operand))\n",
    "    print(\"    modifier : \" + str(m.modifier))\n",
    "    print(\"    divider  : \" + str(m.divider))\n",
    "    print(\"    true     : \" + str(m.if_true))\n",
    "    print(\"    false    : \" + str(m.if_false))\n",
    "'''\n",
    "\n",
    "for round in range(n_rounds):\n",
    "    for monkey in monkeys:\n",
    "        for idx in range(len(monkey.items)):\n",
    "            # inspection\n",
    "            monkey.inspections += 1\n",
    "            # operation\n",
    "            if monkey.operand == '+':\n",
    "                monkey.items[idx] += int(monkey.modifier)\n",
    "            elif monkey.modifier == 'old':\n",
    "                monkey.items[idx] = monkey.items[idx] ** 2\n",
    "            else:\n",
    "                monkey.items[idx] = monkey.items[idx] * int(monkey.modifier)\n",
    "            \n",
    "            # divide by 3 (COMMENT OUT FOR PART 2)\n",
    "            #monkey.items[idx] = int(monkey.items[idx] / 3)\n",
    "            \n",
    "            # throw to\n",
    "            monkey.items[idx] = monkey.items[idx]% mod\n",
    "            if monkey.items[idx]%monkey.divider == 0:\n",
    "                monkeys[monkey.if_true].items.append(monkey.items[idx])\n",
    "            else:\n",
    "                monkeys[monkey.if_false].items.append(monkey.items[idx])\n",
    "        monkeys[monkey.monkey_id].items = []\n",
    "\n",
    "for i in monkeys:\n",
    "    inspects.append(i.inspections)\n",
    "    \n",
    "inspects.sort()\n",
    "\n",
    "print(inspects[-1] * inspects[-2])"
   ]
  },
  {
   "cell_type": "code",
   "execution_count": null,
   "id": "4e064b81",
   "metadata": {},
   "outputs": [],
   "source": []
  }
 ],
 "metadata": {
  "kernelspec": {
   "display_name": "Python 3 (ipykernel)",
   "language": "python",
   "name": "python3"
  },
  "language_info": {
   "codemirror_mode": {
    "name": "ipython",
    "version": 3
   },
   "file_extension": ".py",
   "mimetype": "text/x-python",
   "name": "python",
   "nbconvert_exporter": "python",
   "pygments_lexer": "ipython3",
   "version": "3.9.13"
  }
 },
 "nbformat": 4,
 "nbformat_minor": 5
}
