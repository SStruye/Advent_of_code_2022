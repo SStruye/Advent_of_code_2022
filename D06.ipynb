{
 "cells": [
  {
   "cell_type": "markdown",
   "id": "257fd86e",
   "metadata": {},
   "source": [
    "### DAY 6 PART 1"
   ]
  },
  {
   "cell_type": "code",
   "execution_count": 27,
   "id": "b030b489",
   "metadata": {},
   "outputs": [],
   "source": [
    "with open('./docs/D6.txt', 'r') as file:\n",
    "    data = file.read().replace('\\n', '')\n",
    "    \n",
    "data_list = [*data]"
   ]
  },
  {
   "cell_type": "code",
   "execution_count": 28,
   "id": "667f12e8",
   "metadata": {},
   "outputs": [
    {
     "name": "stdout",
     "output_type": "stream",
     "text": [
      "1625\n"
     ]
    }
   ],
   "source": [
    "sub_list = []\n",
    "found = False\n",
    "index = 0\n",
    "\n",
    "while found == False:\n",
    "    for i in range(4):\n",
    "        if data_list[index+i] in sub_list:\n",
    "            # print(\"subset: \" + str(data_list[index: index+4]))\n",
    "            index += sub_list.index(data_list[index+i])+1\n",
    "            sub_list.clear()\n",
    "            break\n",
    "        elif i == 3:\n",
    "            index += i\n",
    "            found = True\n",
    "        else:\n",
    "            sub_list.append(data_list[index+i])\n",
    "            \n",
    "print(index+1)       "
   ]
  },
  {
   "cell_type": "markdown",
   "id": "0f9ab4f6",
   "metadata": {},
   "source": [
    "### DAY 6 PART 2"
   ]
  },
  {
   "cell_type": "markdown",
   "id": "e6bc219b",
   "metadata": {},
   "source": [
    "same as part 1 only range param and i for 'Found' changes"
   ]
  },
  {
   "cell_type": "code",
   "execution_count": 29,
   "id": "6b10cd9b",
   "metadata": {},
   "outputs": [
    {
     "name": "stdout",
     "output_type": "stream",
     "text": [
      "2250\n"
     ]
    }
   ],
   "source": [
    "sub_list = []\n",
    "found = False\n",
    "index = 0\n",
    "\n",
    "while found == False:\n",
    "    for i in range(14):\n",
    "        if data_list[index+i] in sub_list:\n",
    "            # print(\"subset: \" + str(data_list[index: index+4]))\n",
    "            index += sub_list.index(data_list[index+i])+1\n",
    "            sub_list.clear()\n",
    "            break\n",
    "        elif i == 13:\n",
    "            index += i\n",
    "            found = True\n",
    "        else:\n",
    "            sub_list.append(data_list[index+i])\n",
    "            \n",
    "print(index+1)     "
   ]
  },
  {
   "cell_type": "code",
   "execution_count": null,
   "id": "1d437c2b",
   "metadata": {},
   "outputs": [],
   "source": []
  }
 ],
 "metadata": {
  "kernelspec": {
   "display_name": "Python 3 (ipykernel)",
   "language": "python",
   "name": "python3"
  },
  "language_info": {
   "codemirror_mode": {
    "name": "ipython",
    "version": 3
   },
   "file_extension": ".py",
   "mimetype": "text/x-python",
   "name": "python",
   "nbconvert_exporter": "python",
   "pygments_lexer": "ipython3",
   "version": "3.9.13"
  }
 },
 "nbformat": 4,
 "nbformat_minor": 5
}
